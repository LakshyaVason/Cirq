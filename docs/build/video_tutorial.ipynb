{
 "cells": [
  {
   "cell_type": "code",
   "execution_count": null,
   "id": "36f72fa3",
   "metadata": {},
   "outputs": [],
   "source": [
    "import cirq \n",
    "muqubit0 = cirq.LineQubit(0)\n",
    "muqubit1 = cirq.LineQubit(1)\n",
    "muqubit2 = cirq.LineQubit(2)\n",
    "muqubit3 = cirq.LineQubit(3)\n",
    "muqubit3 = cirq.LineQubit(4)\n",
    "muqubit3 = cirq.LineQubit(5)"
   ]
  },
  {
   "cell_type": "code",
   "execution_count": null,
   "id": "89d20c9a",
   "metadata": {},
   "outputs": [],
   "source": []
  }
 ],
 "metadata": {
  "language_info": {
   "name": "python"
  }
 },
 "nbformat": 4,
 "nbformat_minor": 5
}
